{
  "nbformat": 4,
  "nbformat_minor": 0,
  "metadata": {
    "colab": {
      "provenance": [],
      "authorship_tag": "ABX9TyOtfHk9tuwyeAKojW8dlcto",
      "include_colab_link": true
    },
    "kernelspec": {
      "name": "python3",
      "display_name": "Python 3"
    },
    "language_info": {
      "name": "python"
    }
  },
  "cells": [
    {
      "cell_type": "markdown",
      "metadata": {
        "id": "view-in-github",
        "colab_type": "text"
      },
      "source": [
        "<a href=\"https://colab.research.google.com/github/trefftzc/cis654/blob/main/CIS654_in_class_activity_RSA_keys.ipynb\" target=\"_parent\"><img src=\"https://colab.research.google.com/assets/colab-badge.svg\" alt=\"Open In Colab\"/></a>"
      ]
    },
    {
      "cell_type": "markdown",
      "source": [
        "## CIS 654 -- In-class Activity -- Creating your own public and private keys RSA"
      ],
      "metadata": {
        "id": "oKExwVxQP5Di"
      }
    },
    {
      "cell_type": "markdown",
      "source": [
        "Based on this article:\n",
        " https://community.ibm.com/community/user/ibmz-and-linuxone/blogs/subhasish-sarkar1/2020/06/27/rsa-asymmetric-encryption-implementation-python\n",
        "\n",
        "This is a list of prime numbers between 256 and 1024:\n",
        "\n",
        "257, 263, 269, 271, 277, 281, 283, 293, 307, 311, 313, 317, 331, 337, 347, 349, 353, 359, 367, 373, 379, 383, 389, 397, 401, 409, 419, 421, 431, 433, 439, 443, 449, 457, 461, 463, 467, 479, 487, 491, 499, 503, 509, 521, 523, 541, 547, 557, 563, 569, 571, 577, 587, 593, 599, 601, 607, 613, 617, 619, 631, 641, 643, 647, 653, 659, 661, 673, 677, 683, 691, 701, 709, 719, 727, 733, 739, 743, 751, 757, 761, 769, 773, 787, 797, 809, 811, 821, 823, 827, 829, 839, 853, 857, 859, 863, 877, 881, 883, 887, 907, 911, 919, 929, 937, 941, 947, 953, 967, 971, 977, 983, 991, 997, 1009, 1013, 1019, 1021\n",
        "\n"
      ],
      "metadata": {
        "id": "ClFco1XGQCYS"
      }
    },
    {
      "cell_type": "code",
      "execution_count": null,
      "metadata": {
        "colab": {
          "base_uri": "https://localhost:8080/"
        },
        "id": "CCB3fwT4P2hV",
        "outputId": "8e3d8c5a-bd9e-4adc-ed1e-6af7bc3c51c4"
      },
      "outputs": [
        {
          "output_type": "stream",
          "name": "stdout",
          "text": [
            "Please enter a prime number 659\n",
            "Please enter a second different prime number 661\n",
            "The prime numbers you entered are:  659  and  661\n",
            "  RSA Modulus r -----> 435599\n",
            "  Euler's totient -----> 434280\n",
            "  Public-Key exponent, e -----> 13\n",
            "  Public Key -----> (13, 435599)\n",
            "  Private-Key exponent, d -----> 200437\n",
            "  Private Key -----> (200437, 435599)\n"
          ]
        }
      ],
      "source": [
        "#Importing the greatest common divisor method from math\n",
        "from math import gcd\n",
        "\n",
        "prime1 = int(input(\"Please enter a prime number \"))\n",
        "prime2 = int(input(\"Please enter a second different prime number \"))\n",
        "print(\"The prime numbers you entered are: \",prime1,\" and \",prime2)\n",
        "\n",
        "#Calculate and display the RSA modulus r\n",
        "RSA_modulus = prime1 * prime2\n",
        "print(\"  RSA Modulus r -----> \" + str(RSA_modulus))\n",
        "\n",
        "#Calculate and display the Euler’s totient.\n",
        "totient = (prime1 - 1)*(prime2 -1)\n",
        "print(\"  Euler's totient -----> \" + str(totient))\n",
        "\n",
        "# We will now have to select a number e (for ‘encryption’) that will be\n",
        "# our public-key exponent. The number e must obey the following two properties.\n",
        "# (i) 1 < e < totient\n",
        "# (ii) e must be co-prime with RSA_modulus and totient.\n",
        "#In other words, e should be a number that doesn’t have a common factor\n",
        "# with RSA_modulus or totient.\n",
        "# In simple words, the number e should be relatively prime to the totient value,\n",
        "# which means that e and the totient value should share no common factors except 1.\n",
        "#Now, in order to test whether two numbers are relatively prime,\n",
        "# the highest common factor needs to be worked out between the two numbers.\n",
        "#If the largest number that goes into both of them evenly is 1,\n",
        "# then the two numbers are relatively prime.\n",
        "# We will use the gcd() function of the in-built Python library math.\n",
        "#Choosing the public-key exponent\n",
        "public_exponent = 0\n",
        "\n",
        "for e in range(3, totient-1):\n",
        "  if gcd(e, totient) == 1:\n",
        "    public_exponent = e\n",
        "    break\n",
        "    #Aim for the lowest possible value, thus saving computation time\n",
        "\n",
        "#Display the public-key exponent e\n",
        "print(\"  Public-Key exponent, e -----> \" + str(e))\n",
        "\n",
        "#Display the public key\n",
        "print(\"  Public Key -----> (\" + str(public_exponent) + \", \" + str(RSA_modulus) + \")\")\n",
        "\n",
        "# Now time to calculate the private key\n",
        "\n",
        "# We would now have to choose a number d (for ‘decryption’),\n",
        "# such that d*e (mod 𝜙) = 1\n",
        "\n",
        "# We produce the private-key exponent by finding\n",
        "# the modular inverse of the public-key exponent,\n",
        "# using the totient as the modulus.\n",
        "\n",
        "def extended_gcd(aa, bb):\n",
        "    lastremainder, remainder = abs(aa), abs(bb)\n",
        "    x, lastx, y, lasty = 0, 1, 1, 0\n",
        "    while remainder:\n",
        "        lastremainder, (quotient, remainder) = remainder, divmod(lastremainder, remainder)\n",
        "        x, lastx = lastx - quotient*x, x\n",
        "        y, lasty = lasty - quotient*y, y\n",
        "    return lastremainder, lastx * (-1 if aa < 0 else 1), lasty * (-1 if bb < 0 else 1)\n",
        "\n",
        "def modinv(a, m):\n",
        "\tg, x, y = extended_gcd(a, m)\n",
        "\tif g != 1:\n",
        "\t\traise ValueError\n",
        "\treturn x % m\n",
        "\n",
        "#Find the modular inverse of the public-key exponent and use as the private-key exponent\n",
        "private_exponent = modinv(public_exponent, totient)\n",
        "\n",
        "#Display the private-key exponent e\n",
        "print(\"  Private-Key exponent, d -----> \" + str(private_exponent))\n",
        "\n",
        "#Display the private key\n",
        "print(\"  Private Key -----> (\" + str(private_exponent) + \", \" + str(RSA_modulus) + \")\")\n"
      ]
    },
    {
      "cell_type": "markdown",
      "source": [
        "Now can encrypt and decrypt individual characters using\n",
        "the public and private keys we generated\n"
      ],
      "metadata": {
        "id": "wHS80-HZb1sa"
      }
    },
    {
      "cell_type": "code",
      "source": [
        "#ENCRYPTION\n",
        "#Plain text setup\n",
        "print(\" For the sake of simplicity, we are going to encrypt a single character. Please enter below a single character only. \")\n",
        "plain_text = str(input(\" Please enter the character that you would want to encrypt: \"))\n",
        "\n",
        "#Using ord to get ASCII encoding of the character entered\n",
        "#chr is used to generate a character from an ASCII encoding\n",
        "c = (ord(plain_text[0]))\n",
        "cipher_number = (((c)**public_exponent) % RSA_modulus)\n",
        "# cipher_text = chr()\n",
        "\n",
        "print(\"  Plain Text \" + plain_text + \" encrypted to \" + chr(cipher_number))"
      ],
      "metadata": {
        "colab": {
          "base_uri": "https://localhost:8080/"
        },
        "id": "jjkBLKPVbd9H",
        "outputId": "8c2955f3-1cf3-4e39-a058-30c33d9f2b57"
      },
      "execution_count": null,
      "outputs": [
        {
          "output_type": "stream",
          "name": "stdout",
          "text": [
            " For the sake of simplicity, we are going to encrypt a single character. Please enter below a single character only. \n",
            " Please enter the character that you would want to encrypt: B\n",
            "  Plain Text B encrypted to 𨌵\n"
          ]
        }
      ]
    },
    {
      "cell_type": "markdown",
      "source": [
        "Decryption: - original message, m = DECRYPT (cipher text, c) = c^d mod r."
      ],
      "metadata": {
        "id": "vjEACg4BcOA3"
      }
    },
    {
      "cell_type": "code",
      "source": [
        "#DECRYPTION\n",
        "message = chr(((cipher_number)**private_exponent) % RSA_modulus)\n",
        "\n",
        "print(\"  Cipher Text \" + cipher_text + \" decrypted to \" + message)"
      ],
      "metadata": {
        "colab": {
          "base_uri": "https://localhost:8080/"
        },
        "id": "dinK5ftXcTYm",
        "outputId": "450b9322-796e-4033-a051-639565581504"
      },
      "execution_count": null,
      "outputs": [
        {
          "output_type": "stream",
          "name": "stdout",
          "text": [
            "  Cipher Text ⭿ decrypted to B\n"
          ]
        }
      ]
    }
  ]
}