{
  "nbformat": 4,
  "nbformat_minor": 0,
  "metadata": {
    "colab": {
      "provenance": [],
      "authorship_tag": "ABX9TyPBxIukcTyfNji6gBKLrzm9",
      "include_colab_link": true
    },
    "kernelspec": {
      "name": "python3",
      "display_name": "Python 3"
    },
    "language_info": {
      "name": "python"
    }
  },
  "cells": [
    {
      "cell_type": "markdown",
      "metadata": {
        "id": "view-in-github",
        "colab_type": "text"
      },
      "source": [
        "<a href=\"https://colab.research.google.com/github/trefftzc/cis654/blob/main/How_to_decrypt.ipynb\" target=\"_parent\"><img src=\"https://colab.research.google.com/assets/colab-badge.svg\" alt=\"Open In Colab\"/></a>"
      ]
    },
    {
      "cell_type": "markdown",
      "source": [
        "# How to decrypt\n",
        "\n",
        "Given\n",
        "- a public key with an exponent and a value\n",
        "- an encrypted value\n",
        "\n",
        "How do we decrypt the original text?\n",
        "\n",
        "Recall that the public key has two parts:\n",
        "- The modulus n, which is the product of two prime numbers\n",
        "- An exponent\n",
        "\n",
        "So, we start by finding the two prime factors of n.\n",
        "\n",
        "Let's assume that the two prime factors are in the range 256-1024.\n",
        "\n",
        "Recall from the previous notebook that this is a list of prime numbers between 256 and 1024:\n",
        "\n",
        "257, 263, 269, 271, 277, 281, 283, 293, 307, 311, 313, 317, 331, 337, 347, 349, 353, 359, 367, 373, 379, 383, 389, 397, 401, 409, 419, 421, 431, 433, 439, 443, 449, 457, 461, 463, 467, 479, 487, 491, 499, 503, 509, 521, 523, 541, 547, 557, 563, 569, 571, 577, 587, 593, 599, 601, 607, 613, 617, 619, 631, 641, 643, 647, 653, 659, 661, 673, 677, 683, 691, 701, 709, 719, 727, 733, 739, 743, 751, 757, 761, 769, 773, 787, 797, 809, 811, 821, 823, 827, 829, 839, 853, 857, 859, 863, 877, 881, 883, 887, 907, 911, 919, 929, 937, 941, 947, 953, 967, 971, 977, 983, 991, 997, 1009, 1013, 1019, 1021\n"
      ],
      "metadata": {
        "id": "Aq9R9XwXpwTQ"
      }
    },
    {
      "cell_type": "code",
      "execution_count": 48,
      "metadata": {
        "colab": {
          "base_uri": "https://localhost:8080/"
        },
        "id": "1qS-gWeupvbv",
        "outputId": "452f3cc1-a0f3-4424-f89d-f831e64c0a11"
      },
      "outputs": [
        {
          "output_type": "stream",
          "name": "stdout",
          "text": [
            "Please enter the modulus of the public key 948667\n",
            "The two prime factors are:  971 977\n"
          ]
        }
      ],
      "source": [
        "# Finding the prime numbers that were used to produce a modulus\n",
        "n = int(input(\"Please enter the modulus of the public key \"))\n",
        "\n",
        "prime_numbers = [257, 263, 269, 271, 277, 281, 283, 293, 307, 311, 313, 317, 331, 337, 347, 349, 353, 359, 367, 373, 379, 383, 389, 397, 401, 409, 419, 421, 431, 433, 439, 443, 449, 457, 461, 463, 467, 479, 487, 491, 499, 503, 509, 521, 523, 541, 547, 557, 563, 569, 571, 577, 587, 593, 599, 601, 607, 613, 617, 619, 631, 641, 643, 647, 653, 659, 661, 673, 677, 683, 691, 701, 709, 719, 727, 733, 739, 743, 751, 757, 761, 769, 773, 787, 797, 809, 811, 821, 823, 827, 829, 839, 853, 857, 859, 863, 877, 881, 883, 887, 907, 911, 919, 929, 937, 941, 947, 953, 967, 971, 977, 983, 991, 997, 1009, 1013, 1019, 1021,1031, 1033, 1039, 1049, 1051, 1061, 1063, 1069, 1087, 1091, 1093,1097]\n",
        "\n",
        "for p in prime_numbers:\n",
        "  if n % p == 0:\n",
        "    first_prime = p\n",
        "    second_prime = n // p\n",
        "    print(\"The two prime factors are: \",first_prime, second_prime)\n",
        "    break"
      ]
    },
    {
      "cell_type": "markdown",
      "source": [
        "The second part of the public key is the exponent:"
      ],
      "metadata": {
        "id": "sxraa-Q6v1cX"
      }
    },
    {
      "cell_type": "code",
      "source": [
        "public_key_exponent = int(input(\"Please enter the exponent of the public key \"))"
      ],
      "metadata": {
        "colab": {
          "base_uri": "https://localhost:8080/"
        },
        "id": "RXTPARAGv5C2",
        "outputId": "35b42b0d-8ae5-4b3b-f7ca-e94df348935f"
      },
      "execution_count": 49,
      "outputs": [
        {
          "name": "stdout",
          "output_type": "stream",
          "text": [
            "Please enter the exponent of the public key 3\n"
          ]
        }
      ]
    },
    {
      "cell_type": "markdown",
      "source": [
        "We reuse the code from the previous notebook:"
      ],
      "metadata": {
        "id": "KwjXzPdfwIug"
      }
    },
    {
      "cell_type": "code",
      "source": [
        "def extended_gcd(aa, bb):\n",
        "    lastremainder, remainder = abs(aa), abs(bb)\n",
        "    x, lastx, y, lasty = 0, 1, 1, 0\n",
        "    while remainder:\n",
        "        lastremainder, (quotient, remainder) = remainder, divmod(lastremainder, remainder)\n",
        "        x, lastx = lastx - quotient*x, x\n",
        "        y, lasty = lasty - quotient*y, y\n",
        "    return lastremainder, lastx * (-1 if aa < 0 else 1), lasty * (-1 if bb < 0 else 1)\n",
        "\n",
        "def modinv(a, m):\n",
        "\tg, x, y = extended_gcd(a, m)\n",
        "\tif g != 1:\n",
        "\t\traise ValueError\n",
        "\treturn x % m\n",
        "\n",
        "#Find the modular inverse of the public-key exponent and use as the private-key exponent\n",
        "totient = (first_prime - 1)*(second_prime -1)\n",
        "private_exponent = modinv(public_key_exponent, totient)\n",
        "\n",
        "print(\"  Private Key -----> (\" + str(private_exponent) + \", \" + str(n) + \")\")"
      ],
      "metadata": {
        "colab": {
          "base_uri": "https://localhost:8080/"
        },
        "id": "i7CBh2bGwMxX",
        "outputId": "a3d042a5-1e14-4baf-ffda-8e96ae680224"
      },
      "execution_count": 50,
      "outputs": [
        {
          "output_type": "stream",
          "name": "stdout",
          "text": [
            "  Private Key -----> (631147, 948667)\n"
          ]
        }
      ]
    },
    {
      "cell_type": "markdown",
      "source": [
        "Once we have the private key, we can decrypt the value to the original character:"
      ],
      "metadata": {
        "id": "CXyPmZ97xq0_"
      }
    },
    {
      "cell_type": "code",
      "source": [
        "cipher_number = int(input(\"Please enter the encrypted value:\"))\n",
        "message = chr(((cipher_number)**private_exponent) % n)\n",
        "\n",
        "print(\"  Cipher Text \" + str(cipher_number) + \" decrypted to \" + message)"
      ],
      "metadata": {
        "colab": {
          "base_uri": "https://localhost:8080/"
        },
        "id": "rNvUTGr0x3jv",
        "outputId": "ebddc518-f30e-4113-c2ba-c067626e095c"
      },
      "execution_count": 51,
      "outputs": [
        {
          "output_type": "stream",
          "name": "stdout",
          "text": [
            "Please enter the encrypted value:438976\n",
            "  Cipher Text 438976 decrypted to L\n"
          ]
        }
      ]
    }
  ]
}