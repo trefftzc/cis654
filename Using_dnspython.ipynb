{
  "nbformat": 4,
  "nbformat_minor": 0,
  "metadata": {
    "colab": {
      "provenance": [],
      "authorship_tag": "ABX9TyMZ+kPWC3jw9p0AOk5CytAv",
      "include_colab_link": true
    },
    "kernelspec": {
      "name": "python3",
      "display_name": "Python 3"
    },
    "language_info": {
      "name": "python"
    }
  },
  "cells": [
    {
      "cell_type": "markdown",
      "metadata": {
        "id": "view-in-github",
        "colab_type": "text"
      },
      "source": [
        "<a href=\"https://colab.research.google.com/github/trefftzc/cis654/blob/main/Using_dnspython.ipynb\" target=\"_parent\"><img src=\"https://colab.research.google.com/assets/colab-badge.svg\" alt=\"Open In Colab\"/></a>"
      ]
    },
    {
      "cell_type": "code",
      "execution_count": 2,
      "metadata": {
        "colab": {
          "base_uri": "https://localhost:8080/"
        },
        "id": "BwBxx5TiqQKW",
        "outputId": "48777f04-9a97-404d-8e06-0213f2ff4952"
      },
      "outputs": [
        {
          "output_type": "stream",
          "name": "stdout",
          "text": [
            "nameserver 127.0.0.11\n"
          ]
        }
      ],
      "source": [
        "!grep \"nameserver\" /etc/resolv.conf"
      ]
    },
    {
      "cell_type": "code",
      "source": [
        "!pip install dnspython"
      ],
      "metadata": {
        "colab": {
          "base_uri": "https://localhost:8080/"
        },
        "id": "A0Yi-VKfrrKY",
        "outputId": "ddf96a06-4fcc-4212-9857-4e2ba2cbd533"
      },
      "execution_count": 5,
      "outputs": [
        {
          "output_type": "stream",
          "name": "stdout",
          "text": [
            "Collecting dnspython\n",
            "  Downloading dnspython-2.7.0-py3-none-any.whl.metadata (5.8 kB)\n",
            "Downloading dnspython-2.7.0-py3-none-any.whl (313 kB)\n",
            "\u001b[2K   \u001b[90m━━━━━━━━━━━━━━━━━━━━━━━━━━━━━━━━━━━━━━━━\u001b[0m \u001b[32m313.6/313.6 kB\u001b[0m \u001b[31m6.0 MB/s\u001b[0m eta \u001b[36m0:00:00\u001b[0m\n",
            "\u001b[?25hInstalling collected packages: dnspython\n",
            "Successfully installed dnspython-2.7.0\n"
          ]
        }
      ]
    },
    {
      "cell_type": "code",
      "source": [
        "import dns.resolver\n",
        "import time\n",
        "\n",
        "# Create a resolver object\n",
        "resolver = dns.resolver.Resolver()\n",
        "\n",
        "# Specify the DNS server (optional)\n",
        "resolver.nameservers = ['127.0.0.11']\n",
        "\n",
        "# Perform a query\n",
        "start = time.time()\n",
        "result = resolver.resolve('www.gvsu.edu', 'A')\n",
        "end = time.time()\n",
        "print(\"Using the local nameserver, a query took: \",(end - start))\n",
        "\n",
        "# Print the IP addresses\n",
        "for rdata in result:\n",
        "    print(rdata)\n",
        "\n",
        "# Perform a query\n",
        "result = resolver.resolve('gvsu.edu', 'NS')\n",
        "\n",
        "authoritative_nameserver = \"\"\n",
        "# Print the IP addresses\n",
        "for rdata in result:\n",
        "    name_server = rdata.to_text()\n",
        "    print(name_server)\n",
        "\n",
        "    result = resolver.resolve(name_server, 'A')\n",
        "    for rdata in result:\n",
        "        print(rdata)\n",
        "        authoritative_nameserver = rdata.to_text()\n",
        "\n",
        "resolver.nameservers = [authoritative_nameserver]\n",
        "start = time.time()\n",
        "result = resolver.resolve('www.ferris.edu', 'A')\n",
        "end = time.time()\n",
        "print(\"Using an authoritative nameserver, a query took: \",(end - start))\n",
        "# Print the IP addresses\n",
        "for rdata in result:\n",
        "    print(rdata)"
      ],
      "metadata": {
        "colab": {
          "base_uri": "https://localhost:8080/"
        },
        "id": "UAlJWtuwrnSJ",
        "outputId": "8b63b1d2-e825-43fc-faa7-757049a75730"
      },
      "execution_count": 26,
      "outputs": [
        {
          "output_type": "stream",
          "name": "stdout",
          "text": [
            "Using the local nameserver, a query took:  0.01451563835144043\n",
            "104.17.87.18\n",
            "104.17.88.18\n",
            "corey.ns.cloudflare.com.\n",
            "108.162.195.24\n",
            "162.159.44.24\n",
            "172.64.35.24\n",
            "joselyn.ns.cloudflare.com.\n",
            "108.162.194.43\n",
            "172.64.34.43\n",
            "162.159.38.43\n",
            "Using an authoritative nameserver, a query took:  0.03245902061462402\n",
            "104.17.128.98\n",
            "104.17.127.98\n"
          ]
        }
      ]
    }
  ]
}