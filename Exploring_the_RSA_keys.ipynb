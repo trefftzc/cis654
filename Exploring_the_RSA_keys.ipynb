{
  "nbformat": 4,
  "nbformat_minor": 0,
  "metadata": {
    "colab": {
      "provenance": [],
      "authorship_tag": "ABX9TyOvfBgkWq/ymOXOFwkbS/vc",
      "include_colab_link": true
    },
    "kernelspec": {
      "name": "python3",
      "display_name": "Python 3"
    },
    "language_info": {
      "name": "python"
    }
  },
  "cells": [
    {
      "cell_type": "markdown",
      "metadata": {
        "id": "view-in-github",
        "colab_type": "text"
      },
      "source": [
        "<a href=\"https://colab.research.google.com/github/trefftzc/cis654/blob/main/Exploring_the_RSA_keys.ipynb\" target=\"_parent\"><img src=\"https://colab.research.google.com/assets/colab-badge.svg\" alt=\"Open In Colab\"/></a>"
      ]
    },
    {
      "cell_type": "markdown",
      "source": [
        "## Finding the two prime factors of a large number is time consuming...\n",
        "\n",
        "The purpose of this notebook is to illustrate that finding the two prime factors of a large number is time consuming.\n",
        "\n",
        "These are some large prime numbers, close to 1,000,000.\n",
        "\n",
        "999683\n",
        "999721\n",
        "999727\n",
        "999749\n",
        "999763\n",
        "999769\n",
        "999773\n",
        "999809\n",
        "999853\n",
        "999863\n",
        "999883\n",
        "999907\n",
        "999917\n",
        "999931\n",
        "999953\n",
        "999959\n",
        "999961\n",
        "999979\n",
        "999983\n",
        "\n",
        "Taken from https://www.mathsisfun.com/numbers/prime-number-lists.html\n",
        "\n",
        "These number take close to 20 bits to represent in binary.\n",
        "Their product will be around 40 bits long.\n",
        "That was the maximum length of a key back in the 90s in the early days of Netscape.\n",
        "\n",
        "https://en.wikipedia.org/wiki/Crypto_Wars:\n",
        "\n",
        "\"Encryption export controls became a matter of public concern with the introduction of the personal computer. Phil Zimmermann's PGP cryptosystem and its distribution on the Internet in 1991 was the first major 'individual level' challenge to controls on export of cryptography. The growth of electronic commerce in the 1990s created additional pressure for reduced restrictions.[4] Shortly afterward, Netscape's SSL technology was widely adopted as a method for protecting credit card transactions using public key cryptography.\n",
        "\n",
        "SSL-encrypted messages used the RC4 cipher, and used 128-bit keys. U.S. government export regulations would not permit crypto systems using 128-bit keys to be exported.[5] At this stage Western governments had, in practice, a split personality when it came to encryption; policy was made by the military cryptanalysts, who were solely concerned with preventing their 'enemies' acquiring secrets, but that policy was then communicated to commerce by officials whose job was to support industry.\n",
        "\n",
        "The longest key size allowed for export without individual license proceedings was 40 bits, so Netscape developed two versions of its web browser. The \"U.S. edition\" had the full 128-bit strength. The \"International Edition\" had its effective key length reduced to 40 bits by revealing 88 bits of the key in the SSL protocol. Acquiring the 'U.S. domestic' version turned out to be sufficient hassle that most computer users, even in the U.S., ended up with the 'International' version,[6] whose weak 40-bit encryption could be broken in a matter of days using a single personal computer. A similar situation occurred with Lotus Notes for the same reasons.[7]\""
      ],
      "metadata": {
        "id": "Sjq3iarQhEOe"
      }
    },
    {
      "cell_type": "code",
      "execution_count": 1,
      "metadata": {
        "colab": {
          "base_uri": "https://localhost:8080/"
        },
        "id": "jGAF_pPuhBmj",
        "outputId": "f2b02354-846f-456e-c568-a028b7847d26"
      },
      "outputs": [
        {
          "output_type": "stream",
          "name": "stdout",
          "text": [
            "Enter one of the prime numbers above:  999769\n",
            "Enter another one of the prime numbers above: 999959\n",
            "Their product is:  999728009471\n"
          ]
        }
      ],
      "source": [
        "prime1 = int(input(\"Enter one of the prime numbers above: \"))\n",
        "prime2 = int(input(\"Enter another one of the prime numbers above: \"))\n",
        "product = prime1 * prime2\n",
        "print(\"Their product is: \",product)"
      ]
    },
    {
      "cell_type": "markdown",
      "source": [],
      "metadata": {
        "id": "zsGCsnjAhDP3"
      }
    },
    {
      "cell_type": "code",
      "source": [
        "import math\n",
        "# Calculating the square root of the product\n",
        "square_root = math.sqrt(product)\n",
        "print(\"The square root is: \",square_root)"
      ],
      "metadata": {
        "colab": {
          "base_uri": "https://localhost:8080/"
        },
        "id": "3iHm-bXViru4",
        "outputId": "99a751cf-25f1-4e9c-89e1-8f95001ef3b1"
      },
      "execution_count": 2,
      "outputs": [
        {
          "output_type": "stream",
          "name": "stdout",
          "text": [
            "The square root is:  999863.9954868862\n"
          ]
        }
      ]
    },
    {
      "cell_type": "code",
      "source": [
        "# Now, a brute force approach to find the two factors:\n",
        "int_square_root = int(square_root)\n",
        "for i in range(2,int_square_root):\n",
        "  if product % i == 0:\n",
        "    print(\"Found the factors: \",i,\" and \",product//i)\n",
        "    break;"
      ],
      "metadata": {
        "colab": {
          "base_uri": "https://localhost:8080/"
        },
        "id": "EhObgbBRjCem",
        "outputId": "f5981e8d-4d1d-4d37-ec5c-59259ca24e9b"
      },
      "execution_count": 3,
      "outputs": [
        {
          "output_type": "stream",
          "name": "stdout",
          "text": [
            "Found the factors:  999769  and  999959\n"
          ]
        }
      ]
    },
    {
      "cell_type": "markdown",
      "source": [
        "Once the two prime factors of the RSA modulus are known, along with the exponent e, it is possible to calculate the value of d."
      ],
      "metadata": {
        "id": "J0_H2DThltqV"
      }
    },
    {
      "cell_type": "markdown",
      "source": [
        "To complete the exercise, let's calculate the exponent e\n",
        "that would be used along with the product of the primes (rsa-modulus\n",
        ")\n",
        "as the public key:"
      ],
      "metadata": {
        "id": "-_hVljNFBuMU"
      }
    },
    {
      "cell_type": "code",
      "source": [
        "#Importing the greatest common divisor method from math\n",
        "from math import gcd\n",
        "\n",
        "#Calculate and display the Euler’s totient.\n",
        "RSA_modulus = product\n",
        "totient = (prime1 - 1)*(prime2 -1)\n",
        "print(\"  Euler's totient -----> \" + str(totient))\n",
        "\n",
        "#Choosing the public-key exponent\n",
        "public_exponent = 0\n",
        "\n",
        "\n",
        "\n",
        "for e in range(3, totient-1):\n",
        "  if gcd(e, totient) == 1:\n",
        "    public_exponent = e\n",
        "    break\n",
        "\n",
        "\n",
        "#Display the public-key exponent e\n",
        "print(\"  Public-Key exponent, e -----> \" + str(public_exponent))\n",
        "\n",
        "#Display the public key\n",
        "print(\"  Public Key -----> (\" + str(public_exponent) + \", \" + str(RSA_modulus) + \")\")\n",
        "\n"
      ],
      "metadata": {
        "colab": {
          "base_uri": "https://localhost:8080/"
        },
        "id": "PI3gN3rQB8xn",
        "outputId": "e586c90d-e534-44c7-93c3-b210c3d9fdb5"
      },
      "execution_count": 25,
      "outputs": [
        {
          "output_type": "stream",
          "name": "stdout",
          "text": [
            "  Euler's totient -----> 999726009744\n",
            "  Public-Key exponent, e -----> 5\n",
            "  Public Key -----> (5, 999728009471)\n"
          ]
        }
      ]
    },
    {
      "cell_type": "markdown",
      "source": [
        "Let's use that public key to encrypt one character."
      ],
      "metadata": {
        "id": "ND8howyxCxvN"
      }
    },
    {
      "cell_type": "code",
      "source": [
        "#ENCRYPTION\n",
        "#Plain text setup\n",
        "print(\" For the sake of simplicity, we are going to encrypt one character. Please enter below one character only. \")\n",
        "plain_text = str(input(\" Please enter the character that you would want to encrypt: \"))\n",
        "\n",
        "#Using ord to get ASCII encoding of the character entered\n",
        "#chr is used to generate a character from an ASCII encoding\n",
        "\n",
        "cipher_text = ((ord(plain_text)**public_exponent) % RSA_modulus)\n",
        "\n",
        "print(\"  Plain Text \" + plain_text + \" encrypted to \" + str(cipher_text))"
      ],
      "metadata": {
        "colab": {
          "base_uri": "https://localhost:8080/"
        },
        "id": "qcPK1UUdC9Fs",
        "outputId": "e857f8d0-1043-411d-ba36-e80cbbec90c6"
      },
      "execution_count": 26,
      "outputs": [
        {
          "output_type": "stream",
          "name": "stdout",
          "text": [
            " For the sake of simplicity, we are going to encrypt one character. Please enter below one character only. \n",
            " Please enter the character that you would want to encrypt: a\n",
            "  Plain Text a encrypted to 8587340257\n"
          ]
        }
      ]
    },
    {
      "cell_type": "markdown",
      "source": [
        "So, given a public key, and an encrypted message, we can decrypt the message by:\n",
        "1. Finding the prime factors of the RSA_modulus\n",
        "2. Calculating the private key's exponent d\n",
        "3. Applying the decryption function\n"
      ],
      "metadata": {
        "id": "q8ZyqlmoFBxH"
      }
    },
    {
      "cell_type": "code",
      "source": [
        "#The following two functions will return a value of d when you pass it the parameters public-key exponent and totient.\n",
        "def extended_gcd(aa, bb):\n",
        "    lastremainder, remainder = abs(aa), abs(bb)\n",
        "    x, lastx, y, lasty = 0, 1, 1, 0\n",
        "    while remainder:\n",
        "        lastremainder, (quotient, remainder) = remainder, divmod(lastremainder, remainder)\n",
        "        x, lastx = lastx - quotient*x, x\n",
        "        y, lasty = lasty - quotient*y, y\n",
        "    return lastremainder, lastx * (-1 if aa < 0 else 1), lasty * (-1 if bb < 0 else 1)\n",
        "\n",
        "#We produce the private-key exponent by finding the modular inverse of the public-key exponent, using the totient as the modulus.\n",
        "def modinv(a, m):\n",
        "\tg, x, y = extended_gcd(a, m)\n",
        "\tif g != 1:\n",
        "\t\traise ValueError\n",
        "\treturn x % m\n",
        "\n",
        "  #Find the modular inverse of the public-key exponent and use as the private-key exponent\n",
        "private_exponent = modinv(public_exponent, totient)\n",
        "\n",
        "#Display the private-key exponent e\n",
        "print(\"  Private-Key exponent, d -----> \" + str(private_exponent))\n",
        "\n",
        "#Display the private key\n",
        "print(\"  Private Key -----> (\" + str(private_exponent) + \", \" + str(RSA_modulus) + \")\")"
      ],
      "metadata": {
        "colab": {
          "base_uri": "https://localhost:8080/"
        },
        "id": "7BDkoHc9FRoz",
        "outputId": "180f5053-fb72-46e4-d06e-d06afd309329"
      },
      "execution_count": 20,
      "outputs": [
        {
          "output_type": "stream",
          "name": "stdout",
          "text": [
            "  Private-Key exponent, d -----> 106323068897\n",
            "  Private Key -----> (106323068897, 999728009471)\n"
          ]
        }
      ]
    },
    {
      "cell_type": "markdown",
      "source": [
        "Decrypting with this very large exponent would take too long.\n",
        "\n",
        "Let's consider a simpler example.\n",
        "\n",
        "We are given the following public key and encrypted message:\n",
        "\n",
        "Public Key -----> (5,906527)\n",
        "\n",
        "The encrypted value is 716513\n",
        "\n",
        "So to find the original message, we follow the same three previous steps:\n",
        "\n",
        "1. Find the prime factors of the RSA_modulus of the public key\n",
        "\n"
      ],
      "metadata": {
        "id": "fkmsnxdMM4SM"
      }
    },
    {
      "cell_type": "code",
      "source": [
        "RSA_modulus = 906527\n",
        "square_root = math.sqrt(906527) # 906257 is the RSA modulus of the public key\n",
        "int_square_root = int(square_root)\n",
        "for i in range(2,int_square_root):\n",
        "  if RSA_modulus % i == 0:\n",
        "    print(\"Found the factors: \",i,\" and \",RSA_modulus//i)\n",
        "    break;\n",
        "prime1 = i\n",
        "prime2 = RSA_modulus//i"
      ],
      "metadata": {
        "colab": {
          "base_uri": "https://localhost:8080/"
        },
        "id": "0u3E1xfKNXoj",
        "outputId": "42c2b54f-be62-440a-fbb2-a008ebad7bbb"
      },
      "execution_count": 33,
      "outputs": [
        {
          "output_type": "stream",
          "name": "stdout",
          "text": [
            "Found the factors:  239  and  3793\n"
          ]
        }
      ]
    },
    {
      "cell_type": "markdown",
      "source": [
        "2. Calculate the private exponent:"
      ],
      "metadata": {
        "id": "SdrbZFiPPQpa"
      }
    },
    {
      "cell_type": "markdown",
      "source": [],
      "metadata": {
        "id": "9nc6P0hpPPxT"
      }
    },
    {
      "cell_type": "code",
      "source": [
        "totient = (prime1 - 1)*(prime2 - 1)\n",
        "public_exponent = 5\n",
        "#Find the modular inverse of the public-key exponent and use as the private-key exponent\n",
        "private_exponent = modinv(public_exponent, totient)\n",
        "\n",
        "#Display the private-key exponent e\n",
        "print(\"  Private-Key exponent, d -----> \" + str(private_exponent))\n",
        "\n",
        "#Display the private key\n",
        "print(\"  Private Key -----> (\" + str(private_exponent) + \", \" + str(RSA_modulus) + \")\")"
      ],
      "metadata": {
        "colab": {
          "base_uri": "https://localhost:8080/"
        },
        "id": "UlNm1aT8PS6G",
        "outputId": "b1764725-ffda-46b0-b7ce-170e47f81687"
      },
      "execution_count": 34,
      "outputs": [
        {
          "output_type": "stream",
          "name": "stdout",
          "text": [
            "  Private-Key exponent, d -----> 721997\n",
            "  Private Key -----> (721997, 906527)\n"
          ]
        }
      ]
    },
    {
      "cell_type": "markdown",
      "source": [
        "3. Decrypt"
      ],
      "metadata": {
        "id": "6HUCy0rqQf4L"
      }
    },
    {
      "cell_type": "code",
      "source": [
        "#DECRYPTION\n",
        "cipher_text = 716513\n",
        "message = chr(((cipher_text)**private_exponent) % RSA_modulus)\n",
        "print((str(cipher_text) + \" decrypted to \" + str(message)))"
      ],
      "metadata": {
        "colab": {
          "base_uri": "https://localhost:8080/"
        },
        "id": "tHuvtrf1QhZb",
        "outputId": "e91e93fe-418d-49e6-eba2-cf797957ddc2"
      },
      "execution_count": 40,
      "outputs": [
        {
          "output_type": "stream",
          "name": "stdout",
          "text": [
            "716513 decrypted to a\n"
          ]
        }
      ]
    }
  ]
}