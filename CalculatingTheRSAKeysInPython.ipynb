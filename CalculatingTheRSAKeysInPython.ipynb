{
  "nbformat": 4,
  "nbformat_minor": 0,
  "metadata": {
    "colab": {
      "provenance": [],
      "authorship_tag": "ABX9TyPUcH2AAUyQfamE1vkZrCZ5",
      "include_colab_link": true
    },
    "kernelspec": {
      "name": "python3",
      "display_name": "Python 3"
    },
    "language_info": {
      "name": "python"
    }
  },
  "cells": [
    {
      "cell_type": "markdown",
      "metadata": {
        "id": "view-in-github",
        "colab_type": "text"
      },
      "source": [
        "<a href=\"https://colab.research.google.com/github/trefftzc/cis654/blob/main/CalculatingTheRSAKeysInPython.ipynb\" target=\"_parent\"><img src=\"https://colab.research.google.com/assets/colab-badge.svg\" alt=\"Open In Colab\"/></a>"
      ]
    },
    {
      "cell_type": "code",
      "execution_count": null,
      "metadata": {
        "id": "N26wI54PrMvJ"
      },
      "outputs": [],
      "source": [
        ""
      ]
    },
    {
      "cell_type": "markdown",
      "source": [
        "## Implementation of the RSA Asymmetric Encryption Process in Python\n",
        "\n",
        "Adapted from: https://community.ibm.com/community/user/ibmz-and-linuxone/blogs/subhasish-sarkar1/2020/06/27/rsa-asymmetric-encryption-implementation-python"
      ],
      "metadata": {
        "id": "mzShVyoUrPNz"
      }
    },
    {
      "cell_type": "markdown",
      "source": [
        "By Subhasish Sarkar\n",
        "\n",
        "This technical article walks the reader through the Python code that can be used to implement the RSA Asymmetric Encryption Process. The code has been broken down into three distinct tasks - Key Generation, Encryption and Decryption."
      ],
      "metadata": {
        "id": "WF6MxtAArdo5"
      }
    },
    {
      "cell_type": "markdown",
      "source": [
        "The very first step is to generate two prime numbers, p and q. We are going to use the SymPy built-in Python module. SymPy has a method called randprime() that can generate a random prime between two numbers. We need to ensure that the two prime numbers generated are different.\n",
        "\n",
        "Once we have the two (different) prime numbers, we should calculate the RSA modulus r. r = p*q (remember that the fundamental basis of the RSA Asymmetric Encryption Process is the fact that it is extremely easy to compute the RSA modulus r = p*q, but very difficult to reverse). And, as we know, the RSA modulus r is used later on in the encryption and decryption processes.\n",
        "\n",
        "IMPORTANT NOTE: - Talking about the key size (in bits), it is the RSA modulus r that is constrained. For example, if we want to use a 8-bit key, the RSA modulus r cannot exceed 2^8 = 256. Therefore, we need to check in our code that the RSA modulus r is not too large for the desired key size. Our code should have the logic to ensure that the RSA modulus r is less than 2^KeySize."
      ],
      "metadata": {
        "id": "jVzIB7_RrmXJ"
      }
    },
    {
      "cell_type": "code",
      "source": [
        "#Importing the SymPy library\n",
        "from sympy import randprime\n",
        "\n",
        "#Importing the greatest common divisor method from math\n",
        "from math import gcd\n",
        "\n",
        "#The following two functions will return a value of d when you pass it the parameters public-key exponent and totient.\n",
        "def extended_gcd(aa, bb):\n",
        "    lastremainder, remainder = abs(aa), abs(bb)\n",
        "    x, lastx, y, lasty = 0, 1, 1, 0\n",
        "    while remainder:\n",
        "        lastremainder, (quotient, remainder) = remainder, divmod(lastremainder, remainder)\n",
        "        x, lastx = lastx - quotient*x, x\n",
        "        y, lasty = lasty - quotient*y, y\n",
        "    return lastremainder, lastx * (-1 if aa < 0 else 1), lasty * (-1 if bb < 0 else 1)\n",
        "\n",
        "#We produce the private-key exponent by finding the modular inverse of the public-key exponent, using the totient as the modulus.\n",
        "def modinv(a, m):\n",
        "\tg, x, y = extended_gcd(a, m)\n",
        "\tif g != 1:\n",
        "\t\traise ValueError\n",
        "\treturn x % m\n",
        "\n",
        "#Try not to go for more than a 24 bit key because Python is too slow for larger numbers\n",
        "print(\" Please do not go for more than a 24 bit key because Python is too slow for larger numbers. \")\n",
        "key_size = int(input(\" Please enter the desired key size: \"))\n",
        "key_size_string = str(key_size)\n",
        "print(\" Thank You!!! You have chosen the desired key size to be of \" + key_size_string + \" bits.\")\n",
        "\n",
        "#Set the two prime numbers to 0 so that they are declared before the loop\n",
        "prime1 = 0\n",
        "prime2 = 0\n",
        "\n",
        "#The Loop will keep on generating prime numbers until both the following conditions are met.\n",
        "#   1. Both the prime numbers are unique.\n",
        "#   2. Their product is not larger than the key size (2^key_size)\n",
        "while prime1 == prime2 or (prime1 * prime2) > 2**key_size:\n",
        "    prime1 = randprime(3, 2**key_size/2)\n",
        "    prime2 = randprime(3, 2**key_size/2)\n",
        "\n",
        "#Display the two prime numbers\n",
        "print(\"  1st Prime Number -----> \" + str(prime1))\n",
        "print(\"  2nd Prime Number -----> \" + str(prime2))\n",
        "\n",
        "#Calculate and display the RSA modulus r\n",
        "RSA_modulus = prime1 * prime2\n",
        "print(\"  RSA Modulus r -----> \" + str(RSA_modulus))"
      ],
      "metadata": {
        "colab": {
          "base_uri": "https://localhost:8080/"
        },
        "id": "9gIjd9a3rptY",
        "outputId": "87b2cde6-769c-47bd-88d9-a0ef0b08e49e"
      },
      "execution_count": 1,
      "outputs": [
        {
          "output_type": "stream",
          "name": "stdout",
          "text": [
            " Please do not go for more than a 24 bit key because Python is too slow for larger numbers. \n",
            " Please enter the desired key size: 24\n",
            " Thank You!!! You have chosen the desired key size to be of 24 bits.\n",
            "  1st Prime Number -----> 3793\n",
            "  2nd Prime Number -----> 239\n",
            "  RSA Modulus r -----> 906527\n"
          ]
        }
      ]
    },
    {
      "cell_type": "markdown",
      "source": [],
      "metadata": {
        "id": "CbTMYperrWuh"
      }
    },
    {
      "cell_type": "markdown",
      "source": [
        "\n",
        "We will now have to calculate the Euler’s totient φ = (p-1)(q-1)."
      ],
      "metadata": {
        "id": "TYf4z8_irxFp"
      }
    },
    {
      "cell_type": "code",
      "source": [
        "#Calculate and display the Euler’s totient.\n",
        "totient = (prime1 - 1)*(prime2 -1)\n",
        "print(\"  Euler's totient -----> \" + str(totient))"
      ],
      "metadata": {
        "colab": {
          "base_uri": "https://localhost:8080/"
        },
        "id": "GBtSaZnNr0Ag",
        "outputId": "6c2f4a0e-b5f3-4f50-a9e9-34144d3a8954"
      },
      "execution_count": 2,
      "outputs": [
        {
          "output_type": "stream",
          "name": "stdout",
          "text": [
            "  Euler's totient -----> 902496\n"
          ]
        }
      ]
    },
    {
      "cell_type": "markdown",
      "source": [
        "We will now have to select a number e (for ‘encryption’) that will be our public-key exponent. The number e must obey the following two properties.\n",
        "\n",
        "(i) 1 < e < totient\n",
        "\n",
        "(ii) e must be co-prime with RSA_modulus and totient. In other words, e should be a number that doesn’t have a common factor with RSA_modulus or totient. In simple words, the number e should be relatively prime to the totient value, which means that e and the totient value should share no common factors except 1. Now, in order to test whether two numbers are relatively prime, the highest common factor needs to be worked out between the two numbers. If the largest number that goes into both of them evenly is 1, then the two numbers are relatively prime. We will use the gcd() function of the in-built Python library math.\n"
      ],
      "metadata": {
        "id": "ozVbTxgOr21A"
      }
    },
    {
      "cell_type": "code",
      "source": [
        "#Choosing the public-key exponent\n",
        "public_exponent = 0\n",
        "\n",
        "for e in range(3, totient-1):\n",
        "  if gcd(e, totient) == 1:\n",
        "    public_exponent = e\n",
        "    break\n",
        "    #Aim for the lowest possible value, thus saving computation time\n",
        "\n",
        "#Display the public-key exponent e\n",
        "print(\"  Public-Key exponent, e -----> \" + str(e))\n",
        "\n",
        "#Display the public key\n",
        "print(\"  Public Key -----> (\" + str(public_exponent) + \", \" + str(RSA_modulus) + \")\")"
      ],
      "metadata": {
        "colab": {
          "base_uri": "https://localhost:8080/"
        },
        "id": "iYiSwheZr6CB",
        "outputId": "d23dbdcf-21e3-4f61-dd99-a2f66909c98f"
      },
      "execution_count": 3,
      "outputs": [
        {
          "output_type": "stream",
          "name": "stdout",
          "text": [
            "  Public-Key exponent, e -----> 5\n",
            "  Public Key -----> (5, 906527)\n"
          ]
        }
      ]
    },
    {
      "cell_type": "markdown",
      "source": [
        "\n",
        "We would now have to choose a number d (for ‘decryption’), such that d*e (mod 𝜙) = 1."
      ],
      "metadata": {
        "id": "zmsEVzfor8jC"
      }
    },
    {
      "cell_type": "code",
      "source": [
        "#Find the modular inverse of the public-key exponent and use as the private-key exponent\n",
        "private_exponent = modinv(public_exponent, totient)\n",
        "\n",
        "#Display the private-key exponent e\n",
        "print(\"  Private-Key exponent, d -----> \" + str(private_exponent))\n",
        "\n",
        "#Display the private key\n",
        "print(\"  Private Key -----> (\" + str(private_exponent) + \", \" + str(RSA_modulus) + \")\")"
      ],
      "metadata": {
        "colab": {
          "base_uri": "https://localhost:8080/"
        },
        "id": "KxMpO9qEr-ip",
        "outputId": "9965e8d6-ade6-49ff-eada-31a6f7f7e13d"
      },
      "execution_count": 4,
      "outputs": [
        {
          "output_type": "stream",
          "name": "stdout",
          "text": [
            "  Private-Key exponent, d -----> 721997\n",
            "  Private Key -----> (721997, 906527)\n"
          ]
        }
      ]
    },
    {
      "cell_type": "markdown",
      "source": [
        "Now that our Public and Private Key pairs have been generated, we can use those to encrypt and decrypt messages.\n",
        "\n",
        "Encryption: - cipher text = c = ENCRYPT (message, m) = m^e mod r. When we use a number as a power, the number is called an exponent. Therefore, we call the number e the public-key exponent.\n",
        "\n",
        "For the sake of simplicity, we are going to encrypt a single character. Before encrypting a character, we will first encode the character as a number - we will use ASCII encoding. We can convert a character to the number used to represent it in ASCII, by using the Python function ord()."
      ],
      "metadata": {
        "id": "3KFV5O7MsBvw"
      }
    },
    {
      "cell_type": "code",
      "source": [
        "#ENCRYPTION\n",
        "#Plain text setup\n",
        "print(\" For the sake of simplicity, we are going to encrypt a single character. Please enter below a single character only. \")\n",
        "plain_text = str(input(\" Please enter the character that you would want to encrypt: \"))\n",
        "\n",
        "#Using ord to get ASCII encoding of the character entered\n",
        "#chr is used to generate a character from an ASCII encoding\n",
        "cipher_text = chr((ord(plain_text)**public_exponent) % RSA_modulus)\n",
        "\n",
        "print(\"  Plain Text \" + plain_text + \" encrypted to \" + cipher_text)"
      ],
      "metadata": {
        "colab": {
          "base_uri": "https://localhost:8080/"
        },
        "id": "FEurgg8IsEYh",
        "outputId": "8a95b5cc-bae3-4cbc-93e2-0e93b7ff7c4c"
      },
      "execution_count": 5,
      "outputs": [
        {
          "output_type": "stream",
          "name": "stdout",
          "text": [
            " For the sake of simplicity, we are going to encrypt a single character. Please enter below a single character only. \n",
            " Please enter the character that you would want to encrypt: c\n",
            "  Plain Text c encrypted to 񩢍\n"
          ]
        }
      ]
    },
    {
      "cell_type": "markdown",
      "source": [
        "Decryption: - original message, m = DECRYPT (cipher text, c) = c^d mod r."
      ],
      "metadata": {
        "id": "z89EdcRnsMma"
      }
    },
    {
      "cell_type": "code",
      "source": [
        "#DECRYPTION\n",
        "message = chr((ord(cipher_text)**private_exponent) % RSA_modulus)\n",
        "\n",
        "print(\"  Cipher Text \" + cipher_text + \" decrypted to \" + message)"
      ],
      "metadata": {
        "colab": {
          "base_uri": "https://localhost:8080/"
        },
        "id": "Ju0b5wMasVO5",
        "outputId": "ba417c55-fc17-4685-b6c1-32d672f59fb4"
      },
      "execution_count": 6,
      "outputs": [
        {
          "output_type": "stream",
          "name": "stdout",
          "text": [
            "  Cipher Text 񩢍 decrypted to c\n"
          ]
        }
      ]
    }
  ]
}